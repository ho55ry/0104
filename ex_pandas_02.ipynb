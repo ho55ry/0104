{
 "cells": [
  {
   "cell_type": "code",
   "execution_count": null,
   "metadata": {},
   "outputs": [],
   "source": [
    "# --------------------------------------------------------------------------------\n",
    "# 데이터 분석 => 기초 통계함수들, 고유값, 결측치\n",
    "# --------------------------------------------------------------------------------"
   ]
  },
  {
   "cell_type": "code",
   "execution_count": 4,
   "metadata": {},
   "outputs": [],
   "source": [
    "import pandas as pd\n",
    "FILE=r'D:\\EXAM_python\\datafiles\\auto-mpg.csv'"
   ]
  },
  {
   "cell_type": "code",
   "execution_count": 20,
   "metadata": {},
   "outputs": [],
   "source": [
    "# 데이터 정보 확인 함수\n",
    "def printDataInfo(df):\n",
    "    df.info()\n",
    "    print(df.head(3),df.tail(3),sep='\\n',end='\\n\\n')\n",
    "    print(df.describe(include='all'),end='\\n\\n')\n",
    "    print(f'Index => {df.index}\\nColumns => {df.columns}',end='\\n\\n')"
   ]
  },
  {
   "cell_type": "code",
   "execution_count": 11,
   "metadata": {},
   "outputs": [],
   "source": [
    "# (1) FILE => DataFrame 읽기\n",
    "mpgDF=pd.read_csv(FILE,header=None)"
   ]
  },
  {
   "cell_type": "code",
   "execution_count": 21,
   "metadata": {},
   "outputs": [
    {
     "name": "stdout",
     "output_type": "stream",
     "text": [
      "<class 'pandas.core.frame.DataFrame'>\n",
      "RangeIndex: 398 entries, 0 to 397\n",
      "Data columns (total 9 columns):\n",
      " #   Column        Non-Null Count  Dtype  \n",
      "---  ------        --------------  -----  \n",
      " 0   mpg           398 non-null    float64\n",
      " 1   cylinders     398 non-null    int64  \n",
      " 2   displacement  398 non-null    float64\n",
      " 3   horsepower    398 non-null    object \n",
      " 4   weight        398 non-null    float64\n",
      " 5   acceleration  398 non-null    float64\n",
      " 6   model_year    398 non-null    int64  \n",
      " 7   origin        398 non-null    int64  \n",
      " 8   car_name      398 non-null    object \n",
      "dtypes: float64(4), int64(3), object(2)\n",
      "memory usage: 28.1+ KB\n",
      "    mpg  cylinders  displacement horsepower  weight  acceleration  model_year  \\\n",
      "0  18.0          8         307.0       76.0  3504.0          12.0          70   \n",
      "1  15.0          8         350.0       77.0  3693.0          11.5          70   \n",
      "2  18.0          8         318.0      230.0  3436.0          11.0          70   \n",
      "\n",
      "   origin                   car_name  \n",
      "0       1  chevrolet chevelle malibu  \n",
      "1       1          buick skylark 320  \n",
      "2       1         plymouth satellite  \n",
      "      mpg  cylinders  displacement horsepower  weight  acceleration  \\\n",
      "395  32.0          4         135.0      84.00  2295.0          11.6   \n",
      "396  28.0          4         120.0      79.00  2625.0          18.6   \n",
      "397  31.0          4         119.0      82.00  2720.0          19.4   \n",
      "\n",
      "     model_year  origin       car_name  \n",
      "395          82       1  dodge rampage  \n",
      "396          82       1    ford ranger  \n",
      "397          82       1     chevy s-10  \n",
      "\n",
      "               mpg   cylinders  displacement horsepower       weight  \\\n",
      "count   398.000000  398.000000    398.000000        398   398.000000   \n",
      "unique         NaN         NaN           NaN         98          NaN   \n",
      "top            NaN         NaN           NaN      90.00          NaN   \n",
      "freq           NaN         NaN           NaN         20          NaN   \n",
      "mean     23.514573    5.454774    193.425879        NaN  2970.424623   \n",
      "std       7.815984    1.701004    104.269838        NaN   846.841774   \n",
      "min       9.000000    3.000000     68.000000        NaN  1613.000000   \n",
      "25%      17.500000    4.000000    104.250000        NaN  2223.750000   \n",
      "50%      23.000000    4.000000    148.500000        NaN  2803.500000   \n",
      "75%      29.000000    8.000000    262.000000        NaN  3608.000000   \n",
      "max      46.600000    8.000000    455.000000        NaN  5140.000000   \n",
      "\n",
      "        acceleration  model_year      origin    car_name  \n",
      "count     398.000000  398.000000  398.000000         398  \n",
      "unique           NaN         NaN         NaN         305  \n",
      "top              NaN         NaN         NaN  ford pinto  \n",
      "freq             NaN         NaN         NaN           6  \n",
      "mean       15.568090   76.010050    1.572864         NaN  \n",
      "std         2.757689    3.697627    0.802055         NaN  \n",
      "min         8.000000   70.000000    1.000000         NaN  \n",
      "25%        13.825000   73.000000    1.000000         NaN  \n",
      "50%        15.500000   76.000000    1.000000         NaN  \n",
      "75%        17.175000   79.000000    2.000000         NaN  \n",
      "max        24.800000   82.000000    3.000000         NaN  \n",
      "\n",
      "Index => RangeIndex(start=0, stop=398, step=1)\n",
      "Columns => Index(['mpg', 'cylinders', 'displacement', 'horsepower', 'weight',\n",
      "       'acceleration', 'model_year', 'origin', 'car_name'],\n",
      "      dtype='object')\n",
      "\n"
     ]
    }
   ],
   "source": [
    "# (2) 데이터 확인\n",
    "printDataInfo(mpgDF)"
   ]
  },
  {
   "cell_type": "code",
   "execution_count": 23,
   "metadata": {},
   "outputs": [
    {
     "data": {
      "text/html": [
       "<div>\n",
       "<style scoped>\n",
       "    .dataframe tbody tr th:only-of-type {\n",
       "        vertical-align: middle;\n",
       "    }\n",
       "\n",
       "    .dataframe tbody tr th {\n",
       "        vertical-align: top;\n",
       "    }\n",
       "\n",
       "    .dataframe thead th {\n",
       "        text-align: right;\n",
       "    }\n",
       "</style>\n",
       "<table border=\"1\" class=\"dataframe\">\n",
       "  <thead>\n",
       "    <tr style=\"text-align: right;\">\n",
       "      <th></th>\n",
       "      <th>mpg</th>\n",
       "      <th>cylinders</th>\n",
       "      <th>displacement</th>\n",
       "      <th>horsepower</th>\n",
       "      <th>weight</th>\n",
       "      <th>acceleration</th>\n",
       "      <th>model_year</th>\n",
       "      <th>origin</th>\n",
       "      <th>car_name</th>\n",
       "    </tr>\n",
       "  </thead>\n",
       "  <tbody>\n",
       "    <tr>\n",
       "      <th>0</th>\n",
       "      <td>18.0</td>\n",
       "      <td>8</td>\n",
       "      <td>307.0</td>\n",
       "      <td>76.0</td>\n",
       "      <td>3504.0</td>\n",
       "      <td>12.0</td>\n",
       "      <td>70</td>\n",
       "      <td>1</td>\n",
       "      <td>chevrolet chevelle malibu</td>\n",
       "    </tr>\n",
       "    <tr>\n",
       "      <th>1</th>\n",
       "      <td>15.0</td>\n",
       "      <td>8</td>\n",
       "      <td>350.0</td>\n",
       "      <td>77.0</td>\n",
       "      <td>3693.0</td>\n",
       "      <td>11.5</td>\n",
       "      <td>70</td>\n",
       "      <td>1</td>\n",
       "      <td>buick skylark 320</td>\n",
       "    </tr>\n",
       "    <tr>\n",
       "      <th>2</th>\n",
       "      <td>18.0</td>\n",
       "      <td>8</td>\n",
       "      <td>318.0</td>\n",
       "      <td>230.0</td>\n",
       "      <td>3436.0</td>\n",
       "      <td>11.0</td>\n",
       "      <td>70</td>\n",
       "      <td>1</td>\n",
       "      <td>plymouth satellite</td>\n",
       "    </tr>\n",
       "  </tbody>\n",
       "</table>\n",
       "</div>"
      ],
      "text/plain": [
       "    mpg  cylinders  displacement horsepower  weight  acceleration  model_year  \\\n",
       "0  18.0          8         307.0       76.0  3504.0          12.0          70   \n",
       "1  15.0          8         350.0       77.0  3693.0          11.5          70   \n",
       "2  18.0          8         318.0      230.0  3436.0          11.0          70   \n",
       "\n",
       "   origin                   car_name  \n",
       "0       1  chevrolet chevelle malibu  \n",
       "1       1          buick skylark 320  \n",
       "2       1         plymouth satellite  "
      ]
     },
     "execution_count": 23,
     "metadata": {},
     "output_type": "execute_result"
    }
   ],
   "source": [
    "# (3) 컬럼명 추가\n",
    "mpgDF.columns=['mpg','cylinders','displacement','horsepower','weight','acceleration','model_year','origin','car_name']\n",
    "mpgDF.head(3)"
   ]
  },
  {
   "cell_type": "code",
   "execution_count": 42,
   "metadata": {},
   "outputs": [
    {
     "name": "stdout",
     "output_type": "stream",
     "text": [
      "horsepower dtype => object\n",
      "horsepower unique => ['76.0' '77.0' '230.0' '46.0' '78.0' '152.0' '151.0' '153.0' '225.0'\n",
      " '190.0' '170.0' '160.0' '150.0' '95.00' '97.00' '85.00' '88.00' '46.00'\n",
      " '87.00' '90.00' '113.0' '215.0' '200.0' '210.0' '193.0' '?' '100.0'\n",
      " '105.0' '165.0' '175.0' '180.0' '110.0' '72.00' '86.00' '70.00' '76.00'\n",
      " '65.00' '69.00' '60.00' '80.00' '54.00' '208.0' '155.0' '130.0' '140.0'\n",
      " '112.0' '92.00' '145.0' '137.0' '198.0' '158.0' '167.0' '94.00' '107.0'\n",
      " '49.00' '75.00' '91.00' '122.0' '67.00' '83.00' '78.00' '52.00' '61.00'\n",
      " '93.00' '148.0' '129.0' '96.00' '71.00' '98.00' '115.0' '53.00' '81.00'\n",
      " '79.00' '120.0' '102.0' '108.0' '68.00' '58.00' '149.0' '89.00' '63.00'\n",
      " '48.00' '66.00' '139.0' '103.0' '125.0' '133.0' '138.0' '135.0' '142.0'\n",
      " '77.00' '62.00' '132.0' '84.00' '64.00' '74.00' '116.0' '82.00']\n",
      "horsepower value counts => 6\n"
     ]
    }
   ],
   "source": [
    "# (4) 실제 데이터와 타입 맞지 않는 데이터 처리\n",
    "print(f'horsepower dtype => {mpgDF.horsepower.dtype}')\n",
    "# horsepower : 실수값으로 변환\n",
    "# mpgDF.horsepower.astype('float64')\n",
    "# horsepower 값 가운데 '?'있어서 오류 발생 => 다른걸로 대체 해줘야됨\n",
    "# ValueError: could not convert string to float: '?'\n",
    "\n",
    "# (4-1) 해당 컬럼의 데이터 종류 확인 => 고유값 unique()\n",
    "print(f'horsepower unique => {mpgDF.horsepower.unique()}')\n",
    "# (4-2) 해당 컬럼의 데이터 종류별 갯수 확인\n",
    "print(f'horsepower value counts =>',mpgDF.horsepower.value_counts()['?'])"
   ]
  }
 ],
 "metadata": {
  "kernelspec": {
   "display_name": "Python 3",
   "language": "python",
   "name": "python3"
  },
  "language_info": {
   "codemirror_mode": {
    "name": "ipython",
    "version": 3
   },
   "file_extension": ".py",
   "mimetype": "text/x-python",
   "name": "python",
   "nbconvert_exporter": "python",
   "pygments_lexer": "ipython3",
   "version": "3.10.9 (tags/v3.10.9:1dd9be6, Dec  6 2022, 20:01:21) [MSC v.1934 64 bit (AMD64)]"
  },
  "orig_nbformat": 4,
  "vscode": {
   "interpreter": {
    "hash": "23e7cd0fac68f14e6f831e1325482e22752427aa2c3bc43fde0e47b392ec96a8"
   }
  }
 },
 "nbformat": 4,
 "nbformat_minor": 2
}
